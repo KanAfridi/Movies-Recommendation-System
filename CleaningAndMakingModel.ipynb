{
 "cells": [
  {
   "cell_type": "code",
   "execution_count": 2,
   "id": "2ba4bfb8-99b6-498b-b0b5-16896a36e1ad",
   "metadata": {},
   "outputs": [],
   "source": [
    "import pandas as pd\n",
    "import numpy as np\n",
    "import os\n",
    "import sklearn \n",
    "import requests"
   ]
  },
  {
   "cell_type": "code",
   "execution_count": 3,
   "id": "08d89b1e-9d2a-4d7b-9d8d-0e834fa1c219",
   "metadata": {},
   "outputs": [],
   "source": [
    "df_details = pd.read_csv(\"movies_details.csv\")\n",
    "df_credits = pd.read_csv(\"movies_credits.csv\")"
   ]
  },
  {
   "cell_type": "code",
   "execution_count": 4,
   "id": "c6c8ca19-f3ec-486e-926f-7a273f7d7c26",
   "metadata": {},
   "outputs": [
    {
     "name": "stdout",
     "output_type": "stream",
     "text": [
      "<class 'pandas.core.frame.DataFrame'>\n",
      "RangeIndex: 10003 entries, 0 to 10002\n",
      "Data columns (total 26 columns):\n",
      " #   Column                 Non-Null Count  Dtype  \n",
      "---  ------                 --------------  -----  \n",
      " 0   adult                  10003 non-null  bool   \n",
      " 1   backdrop_path          9992 non-null   object \n",
      " 2   belongs_to_collection  2495 non-null   object \n",
      " 3   budget                 10003 non-null  int64  \n",
      " 4   genres                 10003 non-null  object \n",
      " 5   homepage               4335 non-null   object \n",
      " 6   id                     10003 non-null  int64  \n",
      " 7   imdb_id                9996 non-null   object \n",
      " 8   origin_country         10003 non-null  object \n",
      " 9   original_language      10003 non-null  object \n",
      " 10  original_title         10003 non-null  object \n",
      " 11  overview               10001 non-null  object \n",
      " 12  popularity             10003 non-null  float64\n",
      " 13  poster_path            9997 non-null   object \n",
      " 14  production_companies   10003 non-null  object \n",
      " 15  production_countries   10003 non-null  object \n",
      " 16  release_date           10003 non-null  object \n",
      " 17  revenue                10003 non-null  int64  \n",
      " 18  runtime                10003 non-null  int64  \n",
      " 19  spoken_languages       10003 non-null  object \n",
      " 20  status                 10003 non-null  object \n",
      " 21  tagline                8396 non-null   object \n",
      " 22  title                  10003 non-null  object \n",
      " 23  video                  10003 non-null  bool   \n",
      " 24  vote_average           10003 non-null  float64\n",
      " 25  vote_count             10003 non-null  int64  \n",
      "dtypes: bool(2), float64(2), int64(5), object(17)\n",
      "memory usage: 1.9+ MB\n"
     ]
    }
   ],
   "source": [
    "df_details.info()"
   ]
  },
  {
   "cell_type": "code",
   "execution_count": 5,
   "id": "c5721ab0-b32b-4e7a-825b-92b0ae3c254d",
   "metadata": {},
   "outputs": [
    {
     "name": "stdout",
     "output_type": "stream",
     "text": [
      "<class 'pandas.core.frame.DataFrame'>\n",
      "RangeIndex: 10003 entries, 0 to 10002\n",
      "Data columns (total 3 columns):\n",
      " #   Column  Non-Null Count  Dtype \n",
      "---  ------  --------------  ----- \n",
      " 0   id      10003 non-null  int64 \n",
      " 1   cast    10003 non-null  object\n",
      " 2   crew    10003 non-null  object\n",
      "dtypes: int64(1), object(2)\n",
      "memory usage: 234.6+ KB\n"
     ]
    }
   ],
   "source": [
    "df_credits.info()"
   ]
  },
  {
   "cell_type": "markdown",
   "id": "1c17dd14-e5a3-467d-abe7-87159eb6dbd4",
   "metadata": {},
   "source": [
    "### Creating new dataframe from important columns"
   ]
  },
  {
   "cell_type": "code",
   "execution_count": 6,
   "id": "8d8a329f-09ec-4569-a250-051369e2cfee",
   "metadata": {},
   "outputs": [],
   "source": [
    "# combining two dataframe together\n",
    "new_df = pd.merge(df_details, df_credits, on = 'id')"
   ]
  },
  {
   "cell_type": "code",
   "execution_count": 7,
   "id": "616f5cfe-dce3-4211-805f-6877a9f7e7f7",
   "metadata": {},
   "outputs": [
    {
     "data": {
      "text/plain": [
       "Index(['adult', 'backdrop_path', 'belongs_to_collection', 'budget', 'genres',\n",
       "       'homepage', 'id', 'imdb_id', 'origin_country', 'original_language',\n",
       "       'original_title', 'overview', 'popularity', 'poster_path',\n",
       "       'production_companies', 'production_countries', 'release_date',\n",
       "       'revenue', 'runtime', 'spoken_languages', 'status', 'tagline', 'title',\n",
       "       'video', 'vote_average', 'vote_count', 'cast', 'crew'],\n",
       "      dtype='object')"
      ]
     },
     "execution_count": 7,
     "metadata": {},
     "output_type": "execute_result"
    }
   ],
   "source": [
    "new_df.columns"
   ]
  },
  {
   "cell_type": "code",
   "execution_count": 8,
   "id": "cef8270d",
   "metadata": {},
   "outputs": [],
   "source": [
    "# New dataframe from given columns\n",
    "movies = new_df[['id', 'original_language', 'tagline', 'title', 'genres', 'overview', 'production_companies', 'production_countries', 'cast', 'crew']].copy()"
   ]
  },
  {
   "cell_type": "code",
   "execution_count": 9,
   "id": "25c728c9",
   "metadata": {},
   "outputs": [
    {
     "name": "stdout",
     "output_type": "stream",
     "text": [
      "<class 'pandas.core.frame.DataFrame'>\n",
      "RangeIndex: 10055 entries, 0 to 10054\n",
      "Data columns (total 10 columns):\n",
      " #   Column                Non-Null Count  Dtype \n",
      "---  ------                --------------  ----- \n",
      " 0   id                    10055 non-null  int64 \n",
      " 1   original_language     10055 non-null  object\n",
      " 2   tagline               8446 non-null   object\n",
      " 3   title                 10055 non-null  object\n",
      " 4   genres                10055 non-null  object\n",
      " 5   overview              10053 non-null  object\n",
      " 6   production_companies  10055 non-null  object\n",
      " 7   production_countries  10055 non-null  object\n",
      " 8   cast                  10055 non-null  object\n",
      " 9   crew                  10055 non-null  object\n",
      "dtypes: int64(1), object(9)\n",
      "memory usage: 785.7+ KB\n"
     ]
    }
   ],
   "source": [
    "movies.info()"
   ]
  },
  {
   "cell_type": "markdown",
   "id": "9093319a",
   "metadata": {},
   "source": [
    "## Cleaning The Data"
   ]
  },
  {
   "cell_type": "code",
   "execution_count": 10,
   "id": "d542b0fa",
   "metadata": {},
   "outputs": [
    {
     "data": {
      "text/plain": [
       "id                         0\n",
       "original_language          0\n",
       "tagline                 1609\n",
       "title                      0\n",
       "genres                     0\n",
       "overview                   2\n",
       "production_companies       0\n",
       "production_countries       0\n",
       "cast                       0\n",
       "crew                       0\n",
       "dtype: int64"
      ]
     },
     "execution_count": 10,
     "metadata": {},
     "output_type": "execute_result"
    }
   ],
   "source": [
    "movies.isnull().sum()"
   ]
  },
  {
   "cell_type": "code",
   "execution_count": 11,
   "id": "adee655d",
   "metadata": {},
   "outputs": [],
   "source": [
    "movies.dropna(inplace=True)"
   ]
  },
  {
   "cell_type": "code",
   "execution_count": 12,
   "id": "14aad0e6",
   "metadata": {},
   "outputs": [],
   "source": [
    "movies = movies.reset_index(drop=True)"
   ]
  },
  {
   "cell_type": "code",
   "execution_count": 13,
   "id": "95eaeb1e",
   "metadata": {},
   "outputs": [
    {
     "data": {
      "text/plain": [
       "75"
      ]
     },
     "execution_count": 13,
     "metadata": {},
     "output_type": "execute_result"
    }
   ],
   "source": [
    "movies['id'].duplicated().sum()"
   ]
  },
  {
   "cell_type": "code",
   "execution_count": 14,
   "id": "a3ca7c6d",
   "metadata": {},
   "outputs": [],
   "source": [
    "movies['id'] = movies['id'].drop_duplicates()"
   ]
  },
  {
   "cell_type": "code",
   "execution_count": 15,
   "id": "bce3472e",
   "metadata": {},
   "outputs": [
    {
     "name": "stdout",
     "output_type": "stream",
     "text": [
      "<class 'pandas.core.frame.DataFrame'>\n",
      "RangeIndex: 8445 entries, 0 to 8444\n",
      "Data columns (total 10 columns):\n",
      " #   Column                Non-Null Count  Dtype  \n",
      "---  ------                --------------  -----  \n",
      " 0   id                    8370 non-null   float64\n",
      " 1   original_language     8445 non-null   object \n",
      " 2   tagline               8445 non-null   object \n",
      " 3   title                 8445 non-null   object \n",
      " 4   genres                8445 non-null   object \n",
      " 5   overview              8445 non-null   object \n",
      " 6   production_companies  8445 non-null   object \n",
      " 7   production_countries  8445 non-null   object \n",
      " 8   cast                  8445 non-null   object \n",
      " 9   crew                  8445 non-null   object \n",
      "dtypes: float64(1), object(9)\n",
      "memory usage: 659.9+ KB\n"
     ]
    }
   ],
   "source": [
    "movies.info()"
   ]
  },
  {
   "cell_type": "markdown",
   "id": "d721ce47-9da2-4993-b560-21e76f45f1e0",
   "metadata": {},
   "source": [
    "## Now Fetching data from string list and dict"
   ]
  },
  {
   "cell_type": "code",
   "execution_count": 16,
   "id": "cb2f603d",
   "metadata": {},
   "outputs": [],
   "source": [
    "# This function will fetch the data from some coulmns \n",
    "import ast\n",
    "\n",
    "def fetchname(obj):\n",
    "    try:\n",
    "        list = []\n",
    "        data = ast.literal_eval(obj)\n",
    "        #if isinstance(data, dict) and \"name\" in data:\n",
    "        for i in data:\n",
    "            list.append(i.get(\"name\"))\n",
    "            #list.append(i[\"name\"])\n",
    "    except (KeyError, TypeError):\n",
    "        return None\n",
    "    return list\n"
   ]
  },
  {
   "cell_type": "markdown",
   "id": "be5155c6",
   "metadata": {},
   "source": [
    "#### Fetching Genres of each movies"
   ]
  },
  {
   "cell_type": "code",
   "execution_count": 17,
   "id": "9eb48d9a",
   "metadata": {},
   "outputs": [
    {
     "data": {
      "text/plain": [
       "['Drama', 'Action', 'Crime', 'Thriller']"
      ]
     },
     "execution_count": 17,
     "metadata": {},
     "output_type": "execute_result"
    }
   ],
   "source": [
    "fetchname(\"[{'id': 18, 'name': 'Drama'}, {'id': 28, 'name': 'Action'}, {'id': 80, 'name': 'Crime'}, {'id': 53, 'name': 'Thriller'}]\")"
   ]
  },
  {
   "cell_type": "code",
   "execution_count": 18,
   "id": "a929e239",
   "metadata": {},
   "outputs": [],
   "source": [
    "movies['genres'] = movies['genres'].apply(fetchname)"
   ]
  },
  {
   "cell_type": "markdown",
   "id": "90a5bdfe",
   "metadata": {},
   "source": [
    "#### Fetching Production Companies Names"
   ]
  },
  {
   "cell_type": "code",
   "execution_count": 19,
   "id": "8ec72078",
   "metadata": {},
   "outputs": [
    {
     "data": {
      "text/plain": [
       "\"[{'iso_3166_1': 'GB', 'name': 'United Kingdom'}, {'iso_3166_1': 'US', 'name': 'United States of America'}]\""
      ]
     },
     "execution_count": 19,
     "metadata": {},
     "output_type": "execute_result"
    }
   ],
   "source": [
    "movies['production_countries'][0]"
   ]
  },
  {
   "cell_type": "code",
   "execution_count": 20,
   "id": "756dedb5",
   "metadata": {},
   "outputs": [
    {
     "data": {
      "text/plain": [
       "0       [Legendary Pictures, Syncopy, Warner Bros. Pic...\n",
       "1       [Legendary Pictures, Syncopy, Lynda Obst Produ...\n",
       "2       [DC, Legendary Pictures, Syncopy, Isobel Griff...\n",
       "3       [Dune Entertainment, Lightstorm Entertainment,...\n",
       "4       [20th Century Fox, The Donners' Company, Genre...\n",
       "                              ...                        \n",
       "8440      [Gaumont, Kairos, Canal+, TF1 Films Production]\n",
       "8441    [Pathé Entertainment, Ufland, Metro-Goldwyn-Ma...\n",
       "8442    [Relativity Media, Phoenix Pictures, Rising St...\n",
       "8443    [Watchout Studio, TVN Group, Next Film, ITI Ne...\n",
       "8444                [Indigo Film, France 2 Cinéma, Pathé]\n",
       "Name: production_companies, Length: 8445, dtype: object"
      ]
     },
     "execution_count": 20,
     "metadata": {},
     "output_type": "execute_result"
    }
   ],
   "source": [
    "movies['production_companies'].apply(fetchname)"
   ]
  },
  {
   "cell_type": "code",
   "execution_count": 21,
   "id": "3088424b",
   "metadata": {},
   "outputs": [
    {
     "data": {
      "text/plain": [
       "['United Kingdom', 'United States of America']"
      ]
     },
     "execution_count": 21,
     "metadata": {},
     "output_type": "execute_result"
    }
   ],
   "source": [
    "fetchname(movies['production_countries'][0])"
   ]
  },
  {
   "cell_type": "code",
   "execution_count": 22,
   "id": "9d140ada",
   "metadata": {},
   "outputs": [],
   "source": [
    "movies['production_countries'] = movies['production_countries'].apply(fetchname)\n",
    "\n"
   ]
  },
  {
   "cell_type": "code",
   "execution_count": 23,
   "id": "de6413c5",
   "metadata": {},
   "outputs": [],
   "source": [
    "movies['production_companies'] = movies['production_companies'].apply(fetchname)"
   ]
  },
  {
   "cell_type": "code",
   "execution_count": 24,
   "id": "03362984",
   "metadata": {},
   "outputs": [],
   "source": [
    "\n",
    "def director_name(crew):\n",
    "    list = []\n",
    "    for crew in ast.literal_eval(crew):\n",
    "        if crew['job'] == 'Director':\n",
    "            dict_of_director = crew['name']\n",
    "            #print(i['job'] == 'Director')\n",
    "            list.append(dict_of_director)\n",
    "    return list"
   ]
  },
  {
   "cell_type": "code",
   "execution_count": 25,
   "id": "dc99899b",
   "metadata": {},
   "outputs": [
    {
     "data": {
      "text/plain": [
       "['Christopher Nolan']"
      ]
     },
     "execution_count": 25,
     "metadata": {},
     "output_type": "execute_result"
    }
   ],
   "source": [
    "director_name(movies['crew'][0])"
   ]
  },
  {
   "cell_type": "code",
   "execution_count": 26,
   "id": "648feceb",
   "metadata": {},
   "outputs": [],
   "source": [
    "movies['crew'] = movies['crew'].apply(director_name)"
   ]
  },
  {
   "cell_type": "markdown",
   "id": "5690d2c4",
   "metadata": {},
   "source": [
    "### Fetching Actors Names"
   ]
  },
  {
   "cell_type": "code",
   "execution_count": 27,
   "id": "c095ccac",
   "metadata": {},
   "outputs": [],
   "source": [
    "def fetch_actor(cast):\n",
    "    name = []\n",
    "    count = 0\n",
    "    for actor in ast.literal_eval(cast):\n",
    "        if count <= 3:\n",
    "            name.append(actor['name'])\n",
    "            count += 1\n",
    "        else:\n",
    "            break\n",
    "    return name"
   ]
  },
  {
   "cell_type": "code",
   "execution_count": 28,
   "id": "876b25ed",
   "metadata": {},
   "outputs": [
    {
     "data": {
      "text/plain": [
       "['Leonardo DiCaprio', 'Joseph Gordon-Levitt', 'Ken Watanabe', 'Tom Hardy']"
      ]
     },
     "execution_count": 28,
     "metadata": {},
     "output_type": "execute_result"
    }
   ],
   "source": [
    "fetch_actor(movies['cast'][0])"
   ]
  },
  {
   "cell_type": "code",
   "execution_count": 29,
   "id": "1a99d06a",
   "metadata": {},
   "outputs": [],
   "source": [
    "movies['cast'] = movies['cast'].apply(fetch_actor)"
   ]
  },
  {
   "cell_type": "markdown",
   "id": "fab5b50c",
   "metadata": {},
   "source": [
    "### Transformation of columns to lists"
   ]
  },
  {
   "cell_type": "code",
   "execution_count": 30,
   "id": "be9fb694",
   "metadata": {},
   "outputs": [],
   "source": [
    "# Transform columns from string to lists\n",
    "split_columns = ['original_language', 'tagline', 'overview']\n",
    "for i in split_columns:\n",
    "    movies[i] = movies[i].apply(lambda x: x.split())"
   ]
  },
  {
   "cell_type": "markdown",
   "id": "994aea16",
   "metadata": {},
   "source": [
    "### Removing Spaces Between Each Words"
   ]
  },
  {
   "cell_type": "code",
   "execution_count": 31,
   "id": "410d8cb6",
   "metadata": {},
   "outputs": [],
   "source": [
    "# Remove all spaces between words\n",
    "spaces_columns = ['crew', 'genres', 'production_companies', 'cast']\n",
    "for col in spaces_columns:\n",
    "    movies[col] = movies[col].map(lambda x: [i.replace(' ', '') for i in x])"
   ]
  },
  {
   "cell_type": "markdown",
   "id": "27e1d2e4",
   "metadata": {},
   "source": [
    "***Making new columns to combine all the columns in one single column***"
   ]
  },
  {
   "cell_type": "code",
   "execution_count": 32,
   "id": "2be8d525",
   "metadata": {},
   "outputs": [],
   "source": [
    "movies['tags'] = movies['tagline'] + movies['genres'] + movies['overview'] + movies['original_language'] + movies['production_companies'] + movies['production_countries'] + movies['cast'] + movies['crew']"
   ]
  },
  {
   "cell_type": "code",
   "execution_count": 33,
   "id": "5bdbf123",
   "metadata": {},
   "outputs": [],
   "source": [
    "# removing extra columns\n",
    "movies = movies[['id', 'title', 'tags']]"
   ]
  },
  {
   "cell_type": "code",
   "execution_count": 34,
   "id": "82efe142",
   "metadata": {},
   "outputs": [
    {
     "data": {
      "text/html": [
       "<div>\n",
       "<style scoped>\n",
       "    .dataframe tbody tr th:only-of-type {\n",
       "        vertical-align: middle;\n",
       "    }\n",
       "\n",
       "    .dataframe tbody tr th {\n",
       "        vertical-align: top;\n",
       "    }\n",
       "\n",
       "    .dataframe thead th {\n",
       "        text-align: right;\n",
       "    }\n",
       "</style>\n",
       "<table border=\"1\" class=\"dataframe\">\n",
       "  <thead>\n",
       "    <tr style=\"text-align: right;\">\n",
       "      <th></th>\n",
       "      <th>id</th>\n",
       "      <th>title</th>\n",
       "      <th>tags</th>\n",
       "    </tr>\n",
       "  </thead>\n",
       "  <tbody>\n",
       "    <tr>\n",
       "      <th>0</th>\n",
       "      <td>27205.0</td>\n",
       "      <td>Inception</td>\n",
       "      <td>[Your, mind, is, the, scene, of, the, crime., ...</td>\n",
       "    </tr>\n",
       "    <tr>\n",
       "      <th>1</th>\n",
       "      <td>157336.0</td>\n",
       "      <td>Interstellar</td>\n",
       "      <td>[Mankind, was, born, on, Earth., It, was, neve...</td>\n",
       "    </tr>\n",
       "    <tr>\n",
       "      <th>2</th>\n",
       "      <td>155.0</td>\n",
       "      <td>The Dark Knight</td>\n",
       "      <td>[Welcome, to, a, world, without, rules., Drama...</td>\n",
       "    </tr>\n",
       "    <tr>\n",
       "      <th>3</th>\n",
       "      <td>19995.0</td>\n",
       "      <td>Avatar</td>\n",
       "      <td>[Enter, the, world, of, Pandora., Action, Adve...</td>\n",
       "    </tr>\n",
       "    <tr>\n",
       "      <th>4</th>\n",
       "      <td>293660.0</td>\n",
       "      <td>Deadpool</td>\n",
       "      <td>[Feel, the, love., Action, Adventure, Comedy, ...</td>\n",
       "    </tr>\n",
       "  </tbody>\n",
       "</table>\n",
       "</div>"
      ],
      "text/plain": [
       "         id            title  \\\n",
       "0   27205.0        Inception   \n",
       "1  157336.0     Interstellar   \n",
       "2     155.0  The Dark Knight   \n",
       "3   19995.0           Avatar   \n",
       "4  293660.0         Deadpool   \n",
       "\n",
       "                                                tags  \n",
       "0  [Your, mind, is, the, scene, of, the, crime., ...  \n",
       "1  [Mankind, was, born, on, Earth., It, was, neve...  \n",
       "2  [Welcome, to, a, world, without, rules., Drama...  \n",
       "3  [Enter, the, world, of, Pandora., Action, Adve...  \n",
       "4  [Feel, the, love., Action, Adventure, Comedy, ...  "
      ]
     },
     "execution_count": 34,
     "metadata": {},
     "output_type": "execute_result"
    }
   ],
   "source": [
    "movies.head()"
   ]
  },
  {
   "cell_type": "markdown",
   "id": "28566f7c",
   "metadata": {},
   "source": [
    "***Now we are going to apply some other import methods such as stemming and victorization and so on to prepate it and change the text into lower case***"
   ]
  },
  {
   "cell_type": "markdown",
   "id": "7891a5d4",
   "metadata": {},
   "source": [
    "## Stemming"
   ]
  },
  {
   "cell_type": "code",
   "execution_count": 35,
   "id": "0176aa19",
   "metadata": {},
   "outputs": [],
   "source": [
    "from nltk.stem.porter import PorterStemmer\n",
    "from nltk.corpus import stopwords \n",
    "\n",
    "stop_words = stopwords.words('english')\n",
    "stemmer = PorterStemmer()\n",
    "\n",
    "def feature_engg(text):\n",
    "    \"\"\"\n",
    "    This function takes a text as input, transforms it into lowercase, and applies stemming. \n",
    "    Returns the transformed text as a string.\n",
    "    we can also use the stopwords function to but we can do this easily while vicotorization\n",
    "    \"\"\"\n",
    "    \n",
    "    # convert upper case letter to lowercase \n",
    "    text = [i.lower() for i in text]\n",
    "    \n",
    "    # Applying stemming to words\n",
    "    word_stemming = []\n",
    "    for word in text:\n",
    "        word_stemming.append(stemmer.stem(word))\n",
    "    \n",
    "    # Joining the words back into a string\n",
    "    return \" \".join(word_stemming)"
   ]
  },
  {
   "cell_type": "code",
   "execution_count": 36,
   "id": "746ec124",
   "metadata": {},
   "outputs": [
    {
     "data": {
      "text/plain": [
       "0       your mind is the scene of the crime. action sc...\n",
       "1       mankind wa born on earth. it wa never meant to...\n",
       "2       welcom to a world without rules. drama action ...\n",
       "3       enter the world of pandora. action adventur fa...\n",
       "4       feel the love. action adventur comedi the orig...\n",
       "                              ...                        \n",
       "8440    if you can't rememb your past...you can't save...\n",
       "8441    in 1984, betti mahmoody' husband took hi wife ...\n",
       "8442    time bring all thing to light. drama thriller ...\n",
       "8443    time change. the stake remain the same drama t...\n",
       "8444    everyth is not enough. drama intern releas dir...\n",
       "Name: tags, Length: 8445, dtype: object"
      ]
     },
     "execution_count": 36,
     "metadata": {},
     "output_type": "execute_result"
    }
   ],
   "source": [
    "movies['tags'].apply(feature_engg)"
   ]
  },
  {
   "cell_type": "code",
   "execution_count": 37,
   "id": "36491f9f",
   "metadata": {},
   "outputs": [],
   "source": [
    "movies['tags'] = movies['tags'].apply(feature_engg)"
   ]
  },
  {
   "cell_type": "markdown",
   "id": "581e33bf",
   "metadata": {},
   "source": [
    "## Victoriazations"
   ]
  },
  {
   "cell_type": "code",
   "execution_count": 38,
   "id": "3c7dfa76",
   "metadata": {},
   "outputs": [],
   "source": [
    "from sklearn.feature_extraction.text import CountVectorizer\n",
    "cv = CountVectorizer(max_features=7000, stop_words='english')"
   ]
  },
  {
   "cell_type": "code",
   "execution_count": 39,
   "id": "d5dda94e",
   "metadata": {},
   "outputs": [],
   "source": [
    "vectors = cv.fit_transform(movies['tags']).toarray()"
   ]
  },
  {
   "cell_type": "code",
   "execution_count": 40,
   "id": "f033082f",
   "metadata": {},
   "outputs": [
    {
     "data": {
      "text/plain": [
       "array(['15', '16', '17', '17th', '18', '18th', '19', '1920', '1920s',\n",
       "       '1930', '1940', '1942', '1943', '1944', '1945', '1950', '1950s',\n",
       "       '1959', '1960', '1960s', '1962', '1964', '1967', '1970', '1970s',\n",
       "       '1972', '1973', '1974', '1976', '1978', '1980', '1980s', '1984',\n",
       "       '1987', '1988', '1990', '1991', '1999', '19th', '20'], dtype=object)"
      ]
     },
     "execution_count": 40,
     "metadata": {},
     "output_type": "execute_result"
    }
   ],
   "source": [
    "cv.get_feature_names_out()[10:50]"
   ]
  },
  {
   "cell_type": "code",
   "execution_count": 41,
   "id": "d98218f0",
   "metadata": {},
   "outputs": [
    {
     "data": {
      "text/plain": [
       "(8445, 7000)"
      ]
     },
     "execution_count": 41,
     "metadata": {},
     "output_type": "execute_result"
    }
   ],
   "source": [
    "vectors.shape"
   ]
  },
  {
   "cell_type": "markdown",
   "id": "865bfb16",
   "metadata": {},
   "source": [
    "## Cosine similarity"
   ]
  },
  {
   "cell_type": "code",
   "execution_count": 42,
   "id": "b7ff63cc",
   "metadata": {},
   "outputs": [],
   "source": [
    "from sklearn.metrics.pairwise import cosine_similarity\n",
    "similarity = cosine_similarity(vectors)"
   ]
  },
  {
   "cell_type": "code",
   "execution_count": 43,
   "id": "f86efa38",
   "metadata": {},
   "outputs": [
    {
     "data": {
      "text/plain": [
       "(8445, 8445)"
      ]
     },
     "execution_count": 43,
     "metadata": {},
     "output_type": "execute_result"
    }
   ],
   "source": [
    "similarity.shape"
   ]
  },
  {
   "cell_type": "markdown",
   "id": "c6115840",
   "metadata": {},
   "source": [
    "### Functiona for similarity Score"
   ]
  },
  {
   "cell_type": "code",
   "execution_count": 44,
   "id": "78d4ebc8",
   "metadata": {},
   "outputs": [
    {
     "data": {
      "text/html": [
       "<div>\n",
       "<style scoped>\n",
       "    .dataframe tbody tr th:only-of-type {\n",
       "        vertical-align: middle;\n",
       "    }\n",
       "\n",
       "    .dataframe tbody tr th {\n",
       "        vertical-align: top;\n",
       "    }\n",
       "\n",
       "    .dataframe thead th {\n",
       "        text-align: right;\n",
       "    }\n",
       "</style>\n",
       "<table border=\"1\" class=\"dataframe\">\n",
       "  <thead>\n",
       "    <tr style=\"text-align: right;\">\n",
       "      <th></th>\n",
       "      <th>id</th>\n",
       "      <th>title</th>\n",
       "      <th>tags</th>\n",
       "    </tr>\n",
       "  </thead>\n",
       "  <tbody>\n",
       "    <tr>\n",
       "      <th>3</th>\n",
       "      <td>19995.0</td>\n",
       "      <td>Avatar</td>\n",
       "      <td>enter the world of pandora. action adventur fa...</td>\n",
       "    </tr>\n",
       "  </tbody>\n",
       "</table>\n",
       "</div>"
      ],
      "text/plain": [
       "        id   title                                               tags\n",
       "3  19995.0  Avatar  enter the world of pandora. action adventur fa..."
      ]
     },
     "execution_count": 44,
     "metadata": {},
     "output_type": "execute_result"
    }
   ],
   "source": [
    "indx  = movies[movies['title'] == 'Avatar'].index\n",
    "movies.iloc[indx]"
   ]
  },
  {
   "cell_type": "code",
   "execution_count": 45,
   "id": "8c1b1de6",
   "metadata": {},
   "outputs": [
    {
     "data": {
      "text/plain": [
       "[(6695, 0.36329950727537746),\n",
       " (132, 0.3583914681524164),\n",
       " (648, 0.34806170919108287),\n",
       " (2711, 0.3442651863295482),\n",
       " (6648, 0.3431001569771103)]"
      ]
     },
     "execution_count": 45,
     "metadata": {},
     "output_type": "execute_result"
    }
   ],
   "source": [
    "sorted(list(enumerate(similarity[1])), reverse = True, key = lambda x: x[1])[1:6]"
   ]
  },
  {
   "cell_type": "code",
   "execution_count": 46,
   "id": "6e046492",
   "metadata": {},
   "outputs": [
    {
     "data": {
      "text/plain": [
       "'Space Chimps'"
      ]
     },
     "execution_count": 46,
     "metadata": {},
     "output_type": "execute_result"
    }
   ],
   "source": [
    "movies.iloc[6695]['title']"
   ]
  },
  {
   "cell_type": "code",
   "execution_count": 47,
   "id": "ca1bcfd1",
   "metadata": {},
   "outputs": [],
   "source": [
    "def similarity_score(title):\n",
    "    indx = movies[movies['title'] ==  title].index\n",
    "    similar_array = similarity[indx][0]\n",
    "    fivesimilar_array = sorted(list(enumerate(similar_array)), reverse = True, key = lambda x: x[1])[1:6]\n",
    "    \n",
    "    for i in fivesimilar_array:\n",
    "        five_movies = movies.iloc[i[0]]['title']\n",
    "        print(five_movies)\n",
    "    "
   ]
  },
  {
   "cell_type": "code",
   "execution_count": 48,
   "id": "ca1116d8",
   "metadata": {},
   "outputs": [
    {
     "name": "stdout",
     "output_type": "stream",
     "text": [
      "Avatar: The Way of Water\n",
      "Skylines\n",
      "Krull\n",
      "MirrorMask\n",
      "Aliens in the Attic\n"
     ]
    }
   ],
   "source": [
    "similarity_score('Avatar')"
   ]
  },
  {
   "cell_type": "markdown",
   "id": "a82181af",
   "metadata": {},
   "source": [
    "## Saving Model in pickle"
   ]
  },
  {
   "cell_type": "code",
   "execution_count": 52,
   "id": "96f29ada",
   "metadata": {},
   "outputs": [],
   "source": [
    "import pickle\n",
    "with open('recommendation_system.pkl', 'wb') as f:\n",
    "    pickle.dump(similarity, f)"
   ]
  },
  {
   "cell_type": "code",
   "execution_count": 51,
   "id": "66d7deed",
   "metadata": {},
   "outputs": [],
   "source": [
    "with open(\"recommendation_data.pkl\", 'wb') as f:\n",
    "    pickle.dump(movies, f)"
   ]
  }
 ],
 "metadata": {
  "kernelspec": {
   "display_name": "myvenv",
   "language": "python",
   "name": "python3"
  },
  "language_info": {
   "codemirror_mode": {
    "name": "ipython",
    "version": 3
   },
   "file_extension": ".py",
   "mimetype": "text/x-python",
   "name": "python",
   "nbconvert_exporter": "python",
   "pygments_lexer": "ipython3",
   "version": "3.12.2"
  }
 },
 "nbformat": 4,
 "nbformat_minor": 5
}
